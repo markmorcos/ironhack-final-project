{
 "cells": [
  {
   "cell_type": "code",
   "execution_count": 1,
   "metadata": {},
   "outputs": [],
   "source": [
    "import pandas as pd\n",
    "import numpy as np\n",
    "\n",
    "np.int = np.int64"
   ]
  },
  {
   "cell_type": "code",
   "execution_count": 2,
   "metadata": {},
   "outputs": [
    {
     "data": {
      "text/html": [
       "<div>\n",
       "<style scoped>\n",
       "    .dataframe tbody tr th:only-of-type {\n",
       "        vertical-align: middle;\n",
       "    }\n",
       "\n",
       "    .dataframe tbody tr th {\n",
       "        vertical-align: top;\n",
       "    }\n",
       "\n",
       "    .dataframe thead th {\n",
       "        text-align: right;\n",
       "    }\n",
       "</style>\n",
       "<table border=\"1\" class=\"dataframe\">\n",
       "  <thead>\n",
       "    <tr style=\"text-align: right;\">\n",
       "      <th></th>\n",
       "      <th>split</th>\n",
       "      <th>midi_filename</th>\n",
       "      <th>duration</th>\n",
       "    </tr>\n",
       "  </thead>\n",
       "  <tbody>\n",
       "    <tr>\n",
       "      <th>0</th>\n",
       "      <td>train</td>\n",
       "      <td>2017/MIDI-Unprocessed_066_PIANO066_MID--AUDIO-...</td>\n",
       "      <td>464.649433</td>\n",
       "    </tr>\n",
       "    <tr>\n",
       "      <th>1</th>\n",
       "      <td>train</td>\n",
       "      <td>2004/MIDI-Unprocessed_XP_21_R1_2004_01_ORIG_MI...</td>\n",
       "      <td>872.640588</td>\n",
       "    </tr>\n",
       "    <tr>\n",
       "      <th>2</th>\n",
       "      <td>validation</td>\n",
       "      <td>2006/MIDI-Unprocessed_17_R1_2006_01-06_ORIG_MI...</td>\n",
       "      <td>397.857508</td>\n",
       "    </tr>\n",
       "    <tr>\n",
       "      <th>3</th>\n",
       "      <td>validation</td>\n",
       "      <td>2009/MIDI-Unprocessed_07_R1_2009_04-05_ORIG_MI...</td>\n",
       "      <td>400.557826</td>\n",
       "    </tr>\n",
       "    <tr>\n",
       "      <th>4</th>\n",
       "      <td>test</td>\n",
       "      <td>2009/MIDI-Unprocessed_11_R1_2009_06-09_ORIG_MI...</td>\n",
       "      <td>163.745830</td>\n",
       "    </tr>\n",
       "  </tbody>\n",
       "</table>\n",
       "</div>"
      ],
      "text/plain": [
       "        split                                      midi_filename    duration\n",
       "0       train  2017/MIDI-Unprocessed_066_PIANO066_MID--AUDIO-...  464.649433\n",
       "1       train  2004/MIDI-Unprocessed_XP_21_R1_2004_01_ORIG_MI...  872.640588\n",
       "2  validation  2006/MIDI-Unprocessed_17_R1_2006_01-06_ORIG_MI...  397.857508\n",
       "3  validation  2009/MIDI-Unprocessed_07_R1_2009_04-05_ORIG_MI...  400.557826\n",
       "4        test  2009/MIDI-Unprocessed_11_R1_2009_06-09_ORIG_MI...  163.745830"
      ]
     },
     "execution_count": 2,
     "metadata": {},
     "output_type": "execute_result"
    }
   ],
   "source": [
    "metadata = pd.read_csv(\"../data/clean/metadata.csv\")\n",
    "metadata.head()"
   ]
  },
  {
   "cell_type": "code",
   "execution_count": 15,
   "metadata": {},
   "outputs": [],
   "source": [
    "def group_simultaneous_notes_with_overlap(midi_data, min_overlap=0.05):\n",
    "    \"\"\"\n",
    "    Group notes that are played at the same time or have a significant overlap.\n",
    "    \n",
    "    Parameters:\n",
    "    - midi_data: PrettyMIDI object\n",
    "    - min_overlap: Minimum duration of overlap (in seconds) for notes to be considered grouped.\n",
    "    \"\"\"\n",
    "    note_groups = []\n",
    "\n",
    "    for instrument in midi_data.instruments:\n",
    "        # Sort notes by start time\n",
    "        notes = sorted(instrument.notes, key=lambda x: x.start)\n",
    "        current_group = []\n",
    "\n",
    "        for i, note in enumerate(notes):\n",
    "            if not current_group:\n",
    "                # Start a new group\n",
    "                current_group.append(note)\n",
    "                continue\n",
    "\n",
    "            # Check overlap with all notes in the current group\n",
    "            overlaps = [\n",
    "                min(note.end, n.end) - max(note.start, n.start) > min_overlap\n",
    "                for n in current_group\n",
    "            ]\n",
    "\n",
    "            if any(overlaps):\n",
    "                # Add note to current group if it overlaps sufficiently with any note\n",
    "                current_group.append(note)\n",
    "            else:\n",
    "                # End the current group and start a new one\n",
    "                note_groups.append(current_group)\n",
    "                current_group = [note]\n",
    "\n",
    "        # Append the last group if not empty\n",
    "        if len(current_group) > 0:\n",
    "            note_groups.append(current_group)\n",
    "\n",
    "    return note_groups"
   ]
  },
  {
   "cell_type": "code",
   "execution_count": 16,
   "metadata": {},
   "outputs": [
    {
     "name": "stdout",
     "output_type": "stream",
     "text": [
      "[[Note(start=1.032552, end=1.403646, pitch=86, velocity=93), Note(start=1.032552, end=1.462240, pitch=78, velocity=92), Note(start=1.036458, end=1.440104, pitch=50, velocity=90), Note(start=1.039062, end=1.430990, pitch=74, velocity=90), Note(start=1.040365, end=1.389323, pitch=38, velocity=85), Note(start=1.040365, end=1.433594, pitch=81, velocity=84)], [Note(start=1.875000, end=1.927083, pitch=50, velocity=64), Note(start=1.876302, end=1.908854, pitch=62, velocity=76), Note(start=1.884115, end=1.924479, pitch=42, velocity=64), Note(start=1.895833, end=1.928385, pitch=57, velocity=49)], [Note(start=2.041667, end=2.100260, pitch=42, velocity=70), Note(start=2.042969, end=2.092448, pitch=50, velocity=75), Note(start=2.055990, end=2.098958, pitch=62, velocity=75), Note(start=2.058594, end=2.098958, pitch=57, velocity=65)]]\n",
      "[[38, 50, 74, 78, 81, 86], [42, 50, 57, 62], [42, 50, 57, 62]]\n",
      "[['A5', 'D2', 'D3', 'D5', 'D6', 'F#5'], ['A3', 'D3', 'D4', 'F#2'], ['A3', 'D3', 'D4', 'F#2']]\n"
     ]
    }
   ],
   "source": [
    "import pretty_midi\n",
    "\n",
    "midi_filename = \"../data/raw/\" + metadata[\"midi_filename\"][298]\n",
    "midi_data = pretty_midi.PrettyMIDI(midi_filename)\n",
    "\n",
    "note_groups = group_simultaneous_notes_with_overlap(midi_data, min_overlap=0.01)\n",
    "print(note_groups[:3])\n",
    "\n",
    "note_pitch = lambda note: note.pitch\n",
    "note_pitch_groups = [sorted([note_pitch(note) for note in group]) for group in note_groups]\n",
    "print(note_pitch_groups[:3])\n",
    "\n",
    "note_name = lambda note: pretty_midi.note_number_to_name(note_pitch(note))\n",
    "note_name_groups = [sorted([note_name(note) for note in group]) for group in note_groups]\n",
    "print(note_name_groups[:3])"
   ]
  },
  {
   "cell_type": "code",
   "execution_count": 17,
   "metadata": {},
   "outputs": [
    {
     "name": "stdout",
     "output_type": "stream",
     "text": [
      "Key: D major\n",
      "['I', 'I6', 'I6', 'I6', 'I6', 'ii76432', 'I64b3', 'I64b3', 'I64b3', 'I64b3']\n"
     ]
    }
   ],
   "source": [
    "from music21 import chord, note, stream, roman\n",
    "\n",
    "def detect_chords_from_notes(note_groups, song_key=None):\n",
    "    \"\"\"\n",
    "    Detect chords from groups of notes using music21.\n",
    "    \n",
    "    Parameters:\n",
    "    - note_groups: List of groups, where each group is a list of note pitches (e.g., [60, 64, 67]).\n",
    "    \n",
    "    Returns:\n",
    "    - List of chord names.\n",
    "    \"\"\"\n",
    "    chords = []\n",
    "    for group in note_groups:\n",
    "        # Convert MIDI pitches to music21 Notes\n",
    "        music21_notes = [note.Note(pitch) for pitch in group]\n",
    "        music21_chord = chord.Chord(music21_notes)\n",
    "\n",
    "        if song_key:\n",
    "            # Determine the chord's relationship to the key\n",
    "            roman_numeral = roman.romanNumeralFromChord(music21_chord, song_key)\n",
    "            chords.append(roman_numeral.figure)\n",
    "        else:\n",
    "            chords.append(music21_chord.commonName) # Fallback: plain chord name\n",
    "    return chords\n",
    "\n",
    "# convert midi_data from pretty_midi to music21 stream\n",
    "stream = stream.Stream()\n",
    "for instrument in midi_data.instruments:\n",
    "    for n in instrument.notes:\n",
    "        stream.append(note.Note(n.pitch))\n",
    "\n",
    "detected_key = stream.analyze(\"key\")\n",
    "print(f\"Key: {detected_key}\")\n",
    "\n",
    "# Detect chords\n",
    "detected_chords = detect_chords_from_notes(note_pitch_groups, detected_key)\n",
    "print(detected_chords[:10])"
   ]
  },
  {
   "cell_type": "code",
   "execution_count": 18,
   "metadata": {},
   "outputs": [
    {
     "name": "stdout",
     "output_type": "stream",
     "text": [
      "Most frequent cadence: imperfect (174 occurrences)\n"
     ]
    }
   ],
   "source": [
    "cadences = [\n",
    "    {\n",
    "        \"type\": \"perfect\",\n",
    "        \"sequence\": [\"V\", \"I\"],\n",
    "        \"keywords\": [\"resolution\", \"finality\", \"strong\", \"tonal\"],\n",
    "        \"eras\": [\"Classical\", \"Baroque\", \"Symphony\", \"Sonata\"]\n",
    "    },\n",
    "    {\n",
    "        \"type\": \"plagal\",\n",
    "        \"sequence\": [\"IV\", \"I\"],\n",
    "        \"keywords\": [\"sacred\", \"amen\", \"soft\", \"religious\"],\n",
    "        \"eras\": [\"Cantata\", \"Oratorio\", \"Wedding\", \"Sacred Music\"]\n",
    "    },\n",
    "    {\n",
    "        \"type\": \"deceptive\",\n",
    "        \"sequence\": [\"V\", \"vi\"],\n",
    "        \"keywords\": [\"surprise\", \"emotional\", \"unexpected\", \"romantic\"],\n",
    "        \"eras\": [\"Romantic\", \"Opera\", \"Symphony\"]\n",
    "    },\n",
    "    {\n",
    "        \"type\": \"imperfect\",\n",
    "        \"sequence\": [\"_\", \"V\"],\n",
    "        \"keywords\": [\"suspense\", \"unfinished\", \"open-ended\", \"modal\"],\n",
    "        \"eras\": [\"Renaissance\", \"Minimal\", \"Impressionist\", \"Early\"]\n",
    "    }\n",
    "]\n",
    "\n",
    "def detect_cadences(chords):\n",
    "    \"\"\"\n",
    "    Detect cadences from a list of chords.\n",
    "    \n",
    "    Parameters:\n",
    "    - chords: List of chord names.\n",
    "    \n",
    "    Returns:\n",
    "    - List of cadence types.\n",
    "    \"\"\"\n",
    "    cadence_types = []\n",
    "    for i in range(1, len(chords)):\n",
    "        for cadence in cadences:\n",
    "            type = cadence[\"type\"]\n",
    "            sequence = cadence[\"sequence\"]\n",
    "\n",
    "            wildcard = \"_\"\n",
    "            first_match = sequence[0] == chords[i - 1] or sequence[0] == wildcard\n",
    "            second_match = sequence[1] == chords[i] or sequence[1] == wildcard\n",
    "\n",
    "            if first_match and second_match:\n",
    "                cadence_types.append(type)\n",
    "                break\n",
    "    return cadence_types\n",
    "\n",
    "detected_cadences = pd.Series(detect_cadences(detected_chords))\n",
    "\n",
    "top_cadence = detected_cadences.value_counts().idxmax()\n",
    "cadtop_cadence_count = detected_cadences.value_counts().max()\n",
    "\n",
    "print(f\"Most frequent cadence: {top_cadence} ({cadtop_cadence_count} occurrences)\")"
   ]
  },
  {
   "cell_type": "code",
   "execution_count": 19,
   "metadata": {},
   "outputs": [
    {
     "name": "stdout",
     "output_type": "stream",
     "text": [
      "Keywords: ['suspense', 'unfinished', 'open-ended', 'modal']\n"
     ]
    }
   ],
   "source": [
    "def detect_keywords_from_cadence(cadence):\n",
    "    \"\"\"\n",
    "    Detect keywords from a cadence type.\n",
    "    \n",
    "    Parameters:\n",
    "    - cadence: Cadence type.\n",
    "    \n",
    "    Returns:\n",
    "    - List of keywords.\n",
    "    \"\"\"\n",
    "    for c in cadences:\n",
    "        if c[\"type\"] == cadence:\n",
    "            return c[\"keywords\"]\n",
    "    return []\n",
    "\n",
    "keywords = detect_keywords_from_cadence(top_cadence)\n",
    "print(f\"Keywords: {keywords}\")"
   ]
  }
 ],
 "metadata": {
  "kernelspec": {
   "display_name": "base",
   "language": "python",
   "name": "python3"
  },
  "language_info": {
   "codemirror_mode": {
    "name": "ipython",
    "version": 3
   },
   "file_extension": ".py",
   "mimetype": "text/x-python",
   "name": "python",
   "nbconvert_exporter": "python",
   "pygments_lexer": "ipython3",
   "version": "3.12.2"
  }
 },
 "nbformat": 4,
 "nbformat_minor": 2
}
